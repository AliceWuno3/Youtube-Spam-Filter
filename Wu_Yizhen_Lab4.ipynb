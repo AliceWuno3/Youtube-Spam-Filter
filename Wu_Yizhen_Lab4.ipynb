{
  "nbformat": 4,
  "nbformat_minor": 0,
  "metadata": {
    "kernelspec": {
      "display_name": "Python 3",
      "language": "python",
      "name": "python3"
    },
    "language_info": {
      "codemirror_mode": {
        "name": "ipython",
        "version": 3
      },
      "file_extension": ".py",
      "mimetype": "text/x-python",
      "name": "python",
      "nbconvert_exporter": "python",
      "pygments_lexer": "ipython3",
      "version": "3.7.3"
    },
    "colab": {
      "name": "Wu_Yizhen_Lab4.ipynb",
      "provenance": [],
      "collapsed_sections": []
    }
  },
  "cells": [
    {
      "cell_type": "code",
      "metadata": {
        "id": "1lNZgm-rqdMn",
        "colab_type": "code",
        "colab": {}
      },
      "source": [
        "import numpy as np\n",
        "import pandas as pd\n",
        "import seaborn as sns\n",
        "import matplotlib.pyplot as plt\n",
        "import os\n",
        "import plotly.graph_objects as go"
      ],
      "execution_count": 0,
      "outputs": []
    },
    {
      "cell_type": "markdown",
      "metadata": {
        "id": "wg-w5ZaHxwOB",
        "colab_type": "text"
      },
      "source": [
        "(a) Download the YouTube Spam Collection data set and turn it into dataframe"
      ]
    },
    {
      "cell_type": "code",
      "metadata": {
        "id": "7TN2ZgEaqdM3",
        "colab_type": "code",
        "colab": {}
      },
      "source": [
        "file_path = 'https://raw.githubusercontent.com/AliceWuno3/Discussion-for-2020/master/YouTube-Spam-Collection-v1/Youtube04-Eminem.csv'"
      ],
      "execution_count": 0,
      "outputs": []
    },
    {
      "cell_type": "code",
      "metadata": {
        "id": "iEDecX0TqdNA",
        "colab_type": "code",
        "colab": {}
      },
      "source": [
        "df = pd.read_csv(file_path)"
      ],
      "execution_count": 0,
      "outputs": []
    },
    {
      "cell_type": "markdown",
      "metadata": {
        "id": "DPvM25ZwqdNE",
        "colab_type": "text"
      },
      "source": [
        "#### (b)divide the classes and set up train, test sets"
      ]
    },
    {
      "cell_type": "code",
      "metadata": {
        "id": "TYBx6GrPqdNE",
        "colab_type": "code",
        "colab": {}
      },
      "source": [
        "# from sklearn.model_selection import train_test_split\n",
        "# x_train, x_test,y_train, y_test=train_test_split(x, y, test_size=0.2)\n",
        "H = df.loc[df['CLASS']==0]\n",
        "S = df.loc[df['CLASS']==1]\n",
        "tt_H=int(H.shape[0]*0.8)\n",
        "tt_S=int(S.shape[0]*0.8)"
      ],
      "execution_count": 0,
      "outputs": []
    },
    {
      "cell_type": "code",
      "metadata": {
        "id": "yCjoTJVKqdNH",
        "colab_type": "code",
        "colab": {}
      },
      "source": [
        "x_train = pd.concat([H.iloc[0:tt_H,0:-1], S.iloc[0:tt_S:, 0:-1]], axis=0)\n",
        "y_train = pd.concat([H.iloc[0:tt_H,-1], S.iloc[0:tt_S, -1]], axis=0)\n",
        "x_test = pd.concat([H.iloc[tt_H:,0:-1], S.iloc[tt_S:, 0:-1]], axis=0)\n",
        "y_test = pd.concat([H.iloc[tt_H:,-1], S.iloc[tt_S:, -1]], axis=0)"
      ],
      "execution_count": 0,
      "outputs": []
    },
    {
      "cell_type": "markdown",
      "metadata": {
        "id": "pyFgePOsySuD",
        "colab_type": "text"
      },
      "source": [
        "(c)represent it using TF-IDF features"
      ]
    },
    {
      "cell_type": "code",
      "metadata": {
        "id": "jq05j61ZqdNK",
        "colab_type": "code",
        "outputId": "95c31076-f97c-4589-ddf4-28678f35b5a3",
        "colab": {
          "base_uri": "https://localhost:8080/",
          "height": 34
        }
      },
      "source": [
        "# TF-IDF features for train data\n",
        "from sklearn.feature_extraction.text import CountVectorizer\n",
        "from sklearn.feature_extraction.text import TfidfVectorizer\n",
        "\n",
        "vectorizer = TfidfVectorizer(max_features=500)\n",
        "tf_idf = vectorizer.fit_transform(x_train['CONTENT'])\n",
        "tf_train = tf_idf.toarray()\n",
        "tf_train.shape"
      ],
      "execution_count": 0,
      "outputs": [
        {
          "output_type": "execute_result",
          "data": {
            "text/plain": [
              "(358, 500)"
            ]
          },
          "metadata": {
            "tags": []
          },
          "execution_count": 373
        }
      ]
    },
    {
      "cell_type": "code",
      "metadata": {
        "id": "m38wdRadZ3Cy",
        "colab_type": "code",
        "colab": {}
      },
      "source": [
        "#TF-IDF features for test data\n",
        "\n",
        "tf_idf = vectorizer.fit_transform(x_test['CONTENT'])\n",
        "tf_test = tf_idf.toarray()\n"
      ],
      "execution_count": 0,
      "outputs": []
    },
    {
      "cell_type": "markdown",
      "metadata": {
        "id": "xIaU9vxzbG2h",
        "colab_type": "text"
      },
      "source": [
        "####**（d）For L2 penalty:**\n",
        "(i)use five fold cross-validation to find the best lambda"
      ]
    },
    {
      "cell_type": "code",
      "metadata": {
        "id": "BhYp8xqGxbwK",
        "colab_type": "code",
        "colab": {}
      },
      "source": [
        "from sklearn.linear_model import LogisticRegression\n",
        "from sklearn.model_selection import cross_val_score\n",
        "import math\n",
        "lambda_list=np.arange(-5,6)\n",
        "accur_list=[]\n",
        "for i in lambda_list:\n",
        "  c=math.pow(10,i)\n",
        "  # for train and test in k folder\n",
        "  logit = LogisticRegression(C=1/c, max_iter=100000)\n",
        "  scores = cross_val_score(logit,tf_train,y_train,cv=5)\n",
        "  accur=sum(scores)/5\n",
        "  #add the average error of k folder\n",
        "  accur_list.append(accur)\n"
      ],
      "execution_count": 0,
      "outputs": []
    },
    {
      "cell_type": "markdown",
      "metadata": {
        "id": "0sDoz1UDq809",
        "colab_type": "text"
      },
      "source": [
        "The accuracy of all the lambda from 10^(-5,...,5)"
      ]
    },
    {
      "cell_type": "code",
      "metadata": {
        "id": "-j8-36ag7Qvi",
        "colab_type": "code",
        "outputId": "6aa00609-afe3-44fd-bc7a-6e60f3ac16ec",
        "colab": {
          "base_uri": "https://localhost:8080/",
          "height": 204
        }
      },
      "source": [
        "accur_list"
      ],
      "execution_count": 0,
      "outputs": [
        {
          "output_type": "execute_result",
          "data": {
            "text/plain": [
              "[0.9050078247261346,\n",
              " 0.9133802816901408,\n",
              " 0.932981220657277,\n",
              " 0.9301643192488263,\n",
              " 0.9357589984350548,\n",
              " 0.9385367762128325,\n",
              " 0.86858372456964,\n",
              " 0.5474960876369328,\n",
              " 0.5474960876369328,\n",
              " 0.5474960876369328,\n",
              " 0.5474960876369328]"
            ]
          },
          "metadata": {
            "tags": []
          },
          "execution_count": 376
        }
      ]
    },
    {
      "cell_type": "code",
      "metadata": {
        "id": "0n-G1dVwgjWz",
        "colab_type": "code",
        "colab": {}
      },
      "source": [
        "#find the best lambda\n",
        "best_lam = math.pow(10,accur_list.index(max(accur_list))-5)"
      ],
      "execution_count": 0,
      "outputs": []
    },
    {
      "cell_type": "code",
      "metadata": {
        "id": "OiJWaOXOorBR",
        "colab_type": "code",
        "outputId": "d430fa98-1e20-4870-fc22-b41eba59e9b8",
        "colab": {
          "base_uri": "https://localhost:8080/",
          "height": 34
        }
      },
      "source": [
        "best_lam"
      ],
      "execution_count": 0,
      "outputs": [
        {
          "output_type": "execute_result",
          "data": {
            "text/plain": [
              "1.0"
            ]
          },
          "metadata": {
            "tags": []
          },
          "execution_count": 378
        }
      ]
    },
    {
      "cell_type": "markdown",
      "metadata": {
        "id": "pS652Ri1sGJR",
        "colab_type": "text"
      },
      "source": [
        "(ii)Train l2 logistic on it"
      ]
    },
    {
      "cell_type": "code",
      "metadata": {
        "id": "5TpGx8TjrnHQ",
        "colab_type": "code",
        "colab": {}
      },
      "source": [
        "logit_model = LogisticRegression(C=best_lam).fit(tf_train,y_train)"
      ],
      "execution_count": 0,
      "outputs": []
    },
    {
      "cell_type": "markdown",
      "metadata": {
        "id": "PqCMv7M8f9nW",
        "colab_type": "text"
      },
      "source": [
        "Find the confusion matrixs... for training set "
      ]
    },
    {
      "cell_type": "code",
      "metadata": {
        "id": "gGdBSUKvrqcO",
        "colab_type": "code",
        "colab": {}
      },
      "source": [
        "from sklearn.metrics import confusion_matrix, accuracy_score, f1_score, precision_score, recall_score,roc_auc_score, roc_curve, auc"
      ],
      "execution_count": 0,
      "outputs": []
    },
    {
      "cell_type": "code",
      "metadata": {
        "id": "DKjrt13TN_I-",
        "colab_type": "code",
        "colab": {}
      },
      "source": [
        "def evaluate_function(y_test, y_pred):\n",
        "  print('confusion matrix:: \\n', confusion_matrix(y_test, y_pred))\n",
        "  print('accuracy::', accuracy_score(y_test, y_pred))\n",
        "  print('precision::', precision_score(y_test, y_pred))\n",
        "  print('recall::', recall_score(y_test, y_pred))\n",
        "  print('f1 score::', f1_score(y_test, y_pred))\n",
        "  print('AUC score::', roc_auc_score(y_test, y_pred))\n",
        "  print()\n",
        "\n",
        "\n",
        "def plot_roc(y_test, y_pred):\n",
        "  fpr_test,tpr_test,threshold_test = roc_curve(y_test, y_pred) \n",
        "  roc_auc = auc(fpr_test,tpr_test) \n",
        "\n",
        "\n",
        "  plt.figure()\n",
        "  lw = 2\n",
        "  plt.figure(figsize=(12,8))\n",
        "  plt.plot(fpr_test, tpr_test, color='darkorange',\n",
        "          lw=lw, label='ROC curve (area = %0.2f)' % roc_auc) \n",
        "\n",
        "  plt.xlabel('False Positive Rate')\n",
        "  plt.ylabel('True Positive Rate')\n",
        "  plt.title('Receiver operating characteristic example')\n",
        "  plt.legend(loc=\"lower right\")\n",
        "  plt.show()"
      ],
      "execution_count": 0,
      "outputs": []
    },
    {
      "cell_type": "code",
      "metadata": {
        "id": "mFI5-GO0PUBH",
        "colab_type": "code",
        "outputId": "b320b4a1-618a-45ab-842a-5e9319470d89",
        "colab": {
          "base_uri": "https://localhost:8080/",
          "height": 170
        }
      },
      "source": [
        "y_pred = logit_model.predict(tf_train)\n",
        "evaluate_function(y_train, y_pred)"
      ],
      "execution_count": 0,
      "outputs": [
        {
          "output_type": "stream",
          "text": [
            "confusion matrix:: \n",
            " [[162   0]\n",
            " [  7 189]]\n",
            "accuracy:: 0.9804469273743017\n",
            "precision:: 1.0\n",
            "recall:: 0.9642857142857143\n",
            "f1 score:: 0.9818181818181818\n",
            "AUC score:: 0.9821428571428572\n",
            "\n"
          ],
          "name": "stdout"
        }
      ]
    },
    {
      "cell_type": "code",
      "metadata": {
        "id": "vVtmN0EAOvcV",
        "colab_type": "code",
        "outputId": "bd4ed46c-13b8-4d7c-eefa-0ef51ccbf7e4",
        "colab": {
          "base_uri": "https://localhost:8080/",
          "height": 530
        }
      },
      "source": [
        "plot_roc(y_train, y_pred)"
      ],
      "execution_count": 0,
      "outputs": [
        {
          "output_type": "display_data",
          "data": {
            "text/plain": [
              "<Figure size 432x288 with 0 Axes>"
            ]
          },
          "metadata": {
            "tags": []
          }
        },
        {
          "output_type": "display_data",
          "data": {
            "image/png": "[encoded data removed]",
            "text/plain": [
              "<Figure size 864x576 with 1 Axes>"
            ]
          },
          "metadata": {
            "tags": []
          }
        }
      ]
    },
    {
      "cell_type": "markdown",
      "metadata": {
        "id": "cNsPanhngGpT",
        "colab_type": "text"
      },
      "source": [
        "(iii)Find the confusion matrix... for test set\n"
      ]
    },
    {
      "cell_type": "code",
      "metadata": {
        "id": "VD9homJm9H4G",
        "colab_type": "code",
        "outputId": "70f6b35a-9b20-4fe9-b412-52d58d1c2208",
        "colab": {
          "base_uri": "https://localhost:8080/",
          "height": 170
        }
      },
      "source": [
        "y_pred = logit_model.predict(tf_test)\n",
        "evaluate_function(y_test, y_pred)"
      ],
      "execution_count": 0,
      "outputs": [
        {
          "output_type": "stream",
          "text": [
            "confusion matrix:: \n",
            " [[38  3]\n",
            " [19 30]]\n",
            "accuracy:: 0.7555555555555555\n",
            "precision:: 0.9090909090909091\n",
            "recall:: 0.6122448979591837\n",
            "f1 score:: 0.7317073170731708\n",
            "AUC score:: 0.7695370831259334\n",
            "\n"
          ],
          "name": "stdout"
        }
      ]
    },
    {
      "cell_type": "code",
      "metadata": {
        "id": "4qUW0azePCrp",
        "colab_type": "code",
        "outputId": "ceab228e-8879-4343-ff31-bb04ce1547e7",
        "colab": {
          "base_uri": "https://localhost:8080/",
          "height": 530
        }
      },
      "source": [
        "plot_roc(y_test, y_pred)"
      ],
      "execution_count": 0,
      "outputs": [
        {
          "output_type": "display_data",
          "data": {
            "text/plain": [
              "<Figure size 432x288 with 0 Axes>"
            ]
          },
          "metadata": {
            "tags": []
          }
        },
        {
          "output_type": "display_data",
          "data": {
            "image/png": "[encoded data removed]",
            "text/plain": [
              "<Figure size 864x576 with 1 Axes>"
            ]
          },
          "metadata": {
            "tags": []
          }
        }
      ]
    },
    {
      "cell_type": "code",
      "metadata": {
        "id": "dzFjAtUbg-Cy",
        "colab_type": "code",
        "colab": {}
      },
      "source": [
        "from sklearn.metrics import fbeta_score"
      ],
      "execution_count": 0,
      "outputs": []
    },
    {
      "cell_type": "markdown",
      "metadata": {
        "id": "DTdoCSNIzUrh",
        "colab_type": "text"
      },
      "source": [
        "In this application, precision is more important than recall, since we care more about to detect a potential spam message, and thus we don't care about the overall relevance of spam and ham in data, we want to just focus on whether our detection detects best."
      ]
    },
    {
      "cell_type": "code",
      "metadata": {
        "id": "OvFq9EyvhWkx",
        "colab_type": "code",
        "outputId": "947dd900-4445-479b-f6b7-1b8b9d176f8f",
        "colab": {
          "base_uri": "https://localhost:8080/",
          "height": 119
        }
      },
      "source": [
        "beta_list = [0.1,0.5,0.9,1,5,10]\n",
        "for b in beta_list:\n",
        "  print(\"beta score with beta =\", b, \":\", fbeta_score(y_test,y_pred, b))"
      ],
      "execution_count": 0,
      "outputs": [
        {
          "output_type": "stream",
          "text": [
            "beta score with beta = 0.1 : 0.9047476858763811\n",
            "beta score with beta = 0.5 : 0.8287292817679557\n",
            "beta score with beta = 0.9 : 0.7470078415187783\n",
            "beta score with beta = 1 : 0.7317073170731708\n",
            "beta score with beta = 5 : 0.6200317965023848\n",
            "beta score with beta = 10 : 0.6142306912629232\n"
          ],
          "name": "stdout"
        }
      ]
    },
    {
      "cell_type": "markdown",
      "metadata": {
        "id": "6BF9Jk0b9Im1",
        "colab_type": "text"
      },
      "source": [
        "####**(e)For L1 penalty:**\n",
        "(i)use five fold cross-validation to find the best lambda"
      ]
    },
    {
      "cell_type": "code",
      "metadata": {
        "id": "5X7igssE9Rsl",
        "colab_type": "code",
        "colab": {}
      },
      "source": [
        "from sklearn.linear_model import LogisticRegression\n",
        "from sklearn.model_selection import cross_val_score\n",
        "import math\n",
        "lambda_list=np.arange(-5,6)\n",
        "accur_list=[]\n",
        "for i in lambda_list:\n",
        "  c=math.pow(10,i)\n",
        "  # for train and test in k folder\n",
        "  logit = LogisticRegression(penalty= 'l1', solver='liblinear', C=1/c, max_iter=100000)\n",
        "  scores = cross_val_score(logit,tf_train,y_train,cv=5)\n",
        "  accur=sum(scores)/5\n",
        "  #add the average error of k folder\n",
        "  accur_list.append(accur)\n"
      ],
      "execution_count": 0,
      "outputs": []
    },
    {
      "cell_type": "code",
      "metadata": {
        "id": "ZKcC26jtk8Rk",
        "colab_type": "code",
        "outputId": "861311db-a6c1-4a17-a6db-8bca8d1043e8",
        "colab": {
          "base_uri": "https://localhost:8080/",
          "height": 204
        }
      },
      "source": [
        "accur_list"
      ],
      "execution_count": 0,
      "outputs": [
        {
          "output_type": "execute_result",
          "data": {
            "text/plain": [
              "[0.8881064162754303,\n",
              " 0.9216744913928012,\n",
              " 0.9189749608763693,\n",
              " 0.9217136150234742,\n",
              " 0.9274256651017214,\n",
              " 0.9050860719874805,\n",
              " 0.5474960876369328,\n",
              " 0.4525039123630673,\n",
              " 0.4525039123630673,\n",
              " 0.4525039123630673,\n",
              " 0.4525039123630673]"
            ]
          },
          "metadata": {
            "tags": []
          },
          "execution_count": 388
        }
      ]
    },
    {
      "cell_type": "code",
      "metadata": {
        "id": "-XdhBGNSlPax",
        "colab_type": "code",
        "colab": {}
      },
      "source": [
        "best_lam = math.pow(10,accur_list.index(max(accur_list))-5)"
      ],
      "execution_count": 0,
      "outputs": []
    },
    {
      "cell_type": "code",
      "metadata": {
        "id": "XnOFMq3smGxG",
        "colab_type": "code",
        "outputId": "6f49e83a-6a9a-4178-8624-f5fc70dd0226",
        "colab": {
          "base_uri": "https://localhost:8080/",
          "height": 34
        }
      },
      "source": [
        "best_lam"
      ],
      "execution_count": 0,
      "outputs": [
        {
          "output_type": "execute_result",
          "data": {
            "text/plain": [
              "0.1"
            ]
          },
          "metadata": {
            "tags": []
          },
          "execution_count": 390
        }
      ]
    },
    {
      "cell_type": "markdown",
      "metadata": {
        "id": "arAjscj0mnZI",
        "colab_type": "text"
      },
      "source": [
        "(ii)train logistic regression on it"
      ]
    },
    {
      "cell_type": "code",
      "metadata": {
        "id": "Ss9Z2LSpmIOW",
        "colab_type": "code",
        "colab": {}
      },
      "source": [
        "logit_model = LogisticRegression(C=best_lam).fit(tf_train,y_train)"
      ],
      "execution_count": 0,
      "outputs": []
    },
    {
      "cell_type": "markdown",
      "metadata": {
        "id": "NJB38MUMmw76",
        "colab_type": "text"
      },
      "source": [
        "Find the confusion matrixs... for training set "
      ]
    },
    {
      "cell_type": "code",
      "metadata": {
        "id": "iwpVUQE3mq1E",
        "colab_type": "code",
        "outputId": "0836d682-2baa-4527-f742-f7cfb4e6aa5f",
        "colab": {
          "base_uri": "https://localhost:8080/",
          "height": 170
        }
      },
      "source": [
        "y_pred = logit_model.predict(tf_train)\n",
        "evaluate_function(y_train, y_pred)"
      ],
      "execution_count": 0,
      "outputs": [
        {
          "output_type": "stream",
          "text": [
            "confusion matrix:: \n",
            " [[141  21]\n",
            " [  3 193]]\n",
            "accuracy:: 0.9329608938547486\n",
            "precision:: 0.9018691588785047\n",
            "recall:: 0.9846938775510204\n",
            "f1 score:: 0.9414634146341464\n",
            "AUC score:: 0.9275321239606953\n",
            "\n"
          ],
          "name": "stdout"
        }
      ]
    },
    {
      "cell_type": "code",
      "metadata": {
        "id": "8iiXiUBgnFb2",
        "colab_type": "code",
        "outputId": "1585abbf-f9a1-441f-c6dd-2396f664a7e0",
        "colab": {
          "base_uri": "https://localhost:8080/",
          "height": 530
        }
      },
      "source": [
        "plot_roc(y_train, y_pred)"
      ],
      "execution_count": 0,
      "outputs": [
        {
          "output_type": "display_data",
          "data": {
            "text/plain": [
              "<Figure size 432x288 with 0 Axes>"
            ]
          },
          "metadata": {
            "tags": []
          }
        },
        {
          "output_type": "display_data",
          "data": {
            "image/png": "[encoded data removed]",
            "text/plain": [
              "<Figure size 864x576 with 1 Axes>"
            ]
          },
          "metadata": {
            "tags": []
          }
        }
      ]
    },
    {
      "cell_type": "markdown",
      "metadata": {
        "id": "XQbLE7jknQdm",
        "colab_type": "text"
      },
      "source": [
        "(iii)Find the confusion matrix... for test set\n"
      ]
    },
    {
      "cell_type": "code",
      "metadata": {
        "id": "ycHe7AGznJAV",
        "colab_type": "code",
        "outputId": "682106a1-5508-4239-d43f-5589745ce4f6",
        "colab": {
          "base_uri": "https://localhost:8080/",
          "height": 170
        }
      },
      "source": [
        "#confusion matrix\n",
        "y_pred = logit_model.predict(tf_test)\n",
        "evaluate_function(y_test, y_pred)"
      ],
      "execution_count": 0,
      "outputs": [
        {
          "output_type": "stream",
          "text": [
            "confusion matrix:: \n",
            " [[28 13]\n",
            " [ 6 43]]\n",
            "accuracy:: 0.7888888888888889\n",
            "precision:: 0.7678571428571429\n",
            "recall:: 0.8775510204081632\n",
            "f1 score:: 0.819047619047619\n",
            "AUC score:: 0.780238924838228\n",
            "\n"
          ],
          "name": "stdout"
        }
      ]
    },
    {
      "cell_type": "code",
      "metadata": {
        "id": "5NvnnocJngBA",
        "colab_type": "code",
        "outputId": "70c74153-5454-4b58-c282-c565b1baa143",
        "colab": {
          "base_uri": "https://localhost:8080/",
          "height": 530
        }
      },
      "source": [
        "plot_roc(y_test, y_pred)"
      ],
      "execution_count": 0,
      "outputs": [
        {
          "output_type": "display_data",
          "data": {
            "text/plain": [
              "<Figure size 432x288 with 0 Axes>"
            ]
          },
          "metadata": {
            "tags": []
          }
        },
        {
          "output_type": "display_data",
          "data": {
            "image/png": "[encoded data removed]",
            "text/plain": [
              "<Figure size 864x576 with 1 Axes>"
            ]
          },
          "metadata": {
            "tags": []
          }
        }
      ]
    },
    {
      "cell_type": "markdown",
      "metadata": {
        "id": "nTAuUHpKnwI1",
        "colab_type": "text"
      },
      "source": [
        "Binary Classification Using Naive Bayes' Classifiers"
      ]
    },
    {
      "cell_type": "markdown",
      "metadata": {
        "id": "CfZxgpEHvItm",
        "colab_type": "text"
      },
      "source": [
        "(f) using gaussian class conditional distribution"
      ]
    },
    {
      "cell_type": "code",
      "metadata": {
        "id": "lhulqsCHnmDJ",
        "colab_type": "code",
        "colab": {}
      },
      "source": [
        "from sklearn.naive_bayes import GaussianNB\n",
        "bayes_model=GaussianNB().fit(tf_train, y_train)\n",
        "y_pred_train = bayes_model.predict(tf_train)\n",
        "y_pred_test = bayes_model.predict(tf_test)"
      ],
      "execution_count": 0,
      "outputs": []
    },
    {
      "cell_type": "code",
      "metadata": {
        "id": "ZtGlFvhFqQ_5",
        "colab_type": "code",
        "outputId": "7e40b1c5-4b3d-4c48-a88a-d8c55ebd4a42",
        "colab": {
          "base_uri": "https://localhost:8080/",
          "height": 187
        }
      },
      "source": [
        "print('For training set:')\n",
        "evaluate_function(y_train, y_pred_train)"
      ],
      "execution_count": 0,
      "outputs": [
        {
          "output_type": "stream",
          "text": [
            "For training set:\n",
            "confusion matrix:: \n",
            " [[162   0]\n",
            " [  5 191]]\n",
            "accuracy:: 0.9860335195530726\n",
            "precision:: 1.0\n",
            "recall:: 0.9744897959183674\n",
            "f1 score:: 0.9870801033591732\n",
            "AUC score:: 0.9872448979591837\n",
            "\n"
          ],
          "name": "stdout"
        }
      ]
    },
    {
      "cell_type": "code",
      "metadata": {
        "id": "rsX00mhYP2Fy",
        "colab_type": "code",
        "outputId": "4ce5d3b2-2aef-4b59-c184-e1db12e56970",
        "colab": {
          "base_uri": "https://localhost:8080/",
          "height": 187
        }
      },
      "source": [
        "print('For test set:')\n",
        "evaluate_function(y_test, y_pred_test)"
      ],
      "execution_count": 0,
      "outputs": [
        {
          "output_type": "stream",
          "text": [
            "For test set:\n",
            "confusion matrix:: \n",
            " [[11 30]\n",
            " [ 0 49]]\n",
            "accuracy:: 0.6666666666666666\n",
            "precision:: 0.620253164556962\n",
            "recall:: 1.0\n",
            "f1 score:: 0.765625\n",
            "AUC score:: 0.6341463414634146\n",
            "\n"
          ],
          "name": "stdout"
        }
      ]
    },
    {
      "cell_type": "code",
      "metadata": {
        "id": "UA0wFydwrFOp",
        "colab_type": "code",
        "outputId": "10f14f51-826a-4246-972c-55ec48ac1e08",
        "colab": {
          "base_uri": "https://localhost:8080/",
          "height": 530
        }
      },
      "source": [
        "\n",
        "y_score_test=bayes_model.predict_proba(tf_test)\n",
        "y_score_train=bayes_model.predict_proba(tf_train)\n",
        "y_score_test=y_score_test[:,1]\n",
        "y_score_train=y_score_train[:,1]\n",
        "\n",
        "fpr_test,tpr_test,threshold_test = roc_curve(y_test, y_score_test) \n",
        "roc_auc_test = auc(fpr_test,tpr_test) \n",
        "fpr_train,tpr_train,threshold_train = roc_curve(y_train, y_score_train) \n",
        "roc_auc_train = auc(fpr_train,tpr_train) \n",
        "\n",
        "plt.figure()\n",
        "lw = 2\n",
        "plt.figure(figsize=(12,8))\n",
        "plt.plot(fpr_test, tpr_test, color='darkorange',\n",
        "         lw=lw, label='ROC curve (area = %0.2f)' % roc_auc_test) \n",
        "plt.plot(fpr_train, tpr_train, color='blue',\n",
        "         lw=lw, label='ROC curve (area = %0.2f)' % roc_auc_train) \n",
        "plt.xlabel('False Positive Rate')\n",
        "plt.ylabel('True Positive Rate')\n",
        "plt.title('Receiver operating characteristic example')\n",
        "plt.legend(loc=\"lower right\")\n",
        "plt.show()"
      ],
      "execution_count": 0,
      "outputs": [
        {
          "output_type": "display_data",
          "data": {
            "text/plain": [
              "<Figure size 432x288 with 0 Axes>"
            ]
          },
          "metadata": {
            "tags": []
          }
        },
        {
          "output_type": "display_data",
          "data": {
            "image/png": "[encoded data removed]",
            "text/plain": [
              "<Figure size 864x576 with 1 Axes>"
            ]
          },
          "metadata": {
            "tags": []
          }
        }
      ]
    },
    {
      "cell_type": "markdown",
      "metadata": {
        "id": "sFu-cldkvRRQ",
        "colab_type": "text"
      },
      "source": [
        "(g)using multinomial priors"
      ]
    },
    {
      "cell_type": "code",
      "metadata": {
        "id": "GasMmVz1re3-",
        "colab_type": "code",
        "colab": {}
      },
      "source": [
        "from sklearn.naive_bayes import MultinomialNB\n",
        "bayes_model=MultinomialNB().fit(tf_train, y_train)\n",
        "y_pred_train = bayes_model.predict(tf_train)\n",
        "y_pred_test = bayes_model.predict(tf_test)"
      ],
      "execution_count": 0,
      "outputs": []
    },
    {
      "cell_type": "code",
      "metadata": {
        "id": "VEM7WQw7vsnL",
        "colab_type": "code",
        "outputId": "7b27806e-d88a-4d2a-f1d8-4abb079beafb",
        "colab": {
          "base_uri": "https://localhost:8080/",
          "height": 187
        }
      },
      "source": [
        "#confusion matrix for train\n",
        "print('For training set:')\n",
        "evaluate_function(y_train, y_pred_train)"
      ],
      "execution_count": 0,
      "outputs": [
        {
          "output_type": "stream",
          "text": [
            "For training set:\n",
            "confusion matrix:: \n",
            " [[151  11]\n",
            " [  6 190]]\n",
            "accuracy:: 0.952513966480447\n",
            "precision:: 0.945273631840796\n",
            "recall:: 0.9693877551020408\n",
            "f1 score:: 0.9571788413098237\n",
            "AUC score:: 0.9507432602670698\n",
            "\n"
          ],
          "name": "stdout"
        }
      ]
    },
    {
      "cell_type": "code",
      "metadata": {
        "id": "D8ntK1bxQMNh",
        "colab_type": "code",
        "outputId": "f04b43b9-46a2-430f-adc9-d2f8342962ac",
        "colab": {
          "base_uri": "https://localhost:8080/",
          "height": 187
        }
      },
      "source": [
        "print('For test set:')\n",
        "evaluate_function(y_test, y_pred_test)"
      ],
      "execution_count": 0,
      "outputs": [
        {
          "output_type": "stream",
          "text": [
            "For test set:\n",
            "confusion matrix:: \n",
            " [[26 15]\n",
            " [18 31]]\n",
            "accuracy:: 0.6333333333333333\n",
            "precision:: 0.6739130434782609\n",
            "recall:: 0.6326530612244898\n",
            "f1 score:: 0.6526315789473685\n",
            "AUC score:: 0.6333997013439522\n",
            "\n"
          ],
          "name": "stdout"
        }
      ]
    },
    {
      "cell_type": "code",
      "metadata": {
        "id": "uobHmVlxweSS",
        "colab_type": "code",
        "outputId": "7b79739f-baa0-4172-9892-b4790586e593",
        "colab": {
          "base_uri": "https://localhost:8080/",
          "height": 530
        }
      },
      "source": [
        "y_score_test=bayes_model.predict_proba(tf_test)\n",
        "y_score_train=bayes_model.predict_proba(tf_train)\n",
        "y_score_test=y_score_test[:,1]\n",
        "y_score_train=y_score_train[:,1]\n",
        "\n",
        "fpr_test,tpr_test,threshold_test = roc_curve(y_test, y_score_test) \n",
        "roc_auc_test = auc(fpr_test,tpr_test) \n",
        "fpr_train,tpr_train,threshold_train = roc_curve(y_train, y_score_train) \n",
        "roc_auc_train = auc(fpr_train,tpr_train) \n",
        "\n",
        "plt.figure()\n",
        "lw = 2\n",
        "plt.figure(figsize=(12,8))\n",
        "plt.plot(fpr_test, tpr_test, color='darkorange',\n",
        "         lw=lw, label='ROC curve (area = %0.2f)' % roc_auc_test) \n",
        "plt.plot(fpr_train, tpr_train, color='blue',\n",
        "         lw=lw, label='ROC curve (area = %0.2f)' % roc_auc_train) \n",
        "plt.xlabel('False Positive Rate')\n",
        "plt.ylabel('True Positive Rate')\n",
        "plt.title('Receiver operating characteristic example')\n",
        "plt.legend(loc=\"lower right\")\n",
        "plt.show()"
      ],
      "execution_count": 0,
      "outputs": [
        {
          "output_type": "display_data",
          "data": {
            "text/plain": [
              "<Figure size 432x288 with 0 Axes>"
            ]
          },
          "metadata": {
            "tags": []
          }
        },
        {
          "output_type": "display_data",
          "data": {
            "image/png": "[encoded data removed]",
            "text/plain": [
              "<Figure size 864x576 with 1 Axes>"
            ]
          },
          "metadata": {
            "tags": []
          }
        }
      ]
    },
    {
      "cell_type": "markdown",
      "metadata": {
        "id": "aR9gdAEYh2ao",
        "colab_type": "text"
      },
      "source": [
        "###(h)"
      ]
    },
    {
      "cell_type": "code",
      "metadata": {
        "id": "YgC2spNeyZc6",
        "colab_type": "code",
        "colab": {}
      },
      "source": [
        "def best_lambda(model,tf_train, y_train, params):\n",
        "    lambda_list=np.arange(-5,6)\n",
        "    accur_list=[]\n",
        "    for i in lambda_list:\n",
        "      c=math.pow(10,i)\n",
        "      # for train and test in k folder\n",
        "      params.update({'C':1/c})\n",
        "      test_model = model.set_params(**params)\n",
        "      scores = cross_val_score(test_model,tf_train,y_train,cv=5)\n",
        "      accur=sum(scores)/5\n",
        "      #add the average error of k folder\n",
        "      accur_list.append(accur)\n",
        "    best_lam = math.pow(10,accur_list.index(max(accur_list))-5)\n",
        "    return best_lam"
      ],
      "execution_count": 0,
      "outputs": []
    },
    {
      "cell_type": "code",
      "metadata": {
        "id": "v2jiDoI-ZUPS",
        "colab_type": "code",
        "colab": {}
      },
      "source": [
        "import plotly.graph_objects as go\n",
        "\n",
        "def generate_array(name,y_test, y_pred):\n",
        "  \n",
        "  array=[name, \"%.2f\" %accuracy_score(y_test, y_pred),\"%.2f\" %precision_score(y_test, y_pred),\"%.2f\" %recall_score(y_test, y_pred),\\\n",
        "         \"%.2f\" %f1_score(y_test, y_pred),\"%.2f\" %roc_auc_score(y_test, y_pred)]\n",
        "  return array"
      ],
      "execution_count": 0,
      "outputs": []
    },
    {
      "cell_type": "code",
      "metadata": {
        "id": "F6swwgb-_sJo",
        "colab_type": "code",
        "colab": {}
      },
      "source": [
        "def train_model(df,feature_num):\n",
        "  H = df.loc[df['CLASS']==0]\n",
        "  S = df.loc[df['CLASS']==1]\n",
        "  tt_H=int(H.shape[0]*0.8)\n",
        "  tt_S=int(S.shape[0]*0.8)\n",
        "  x_train = pd.concat([H.iloc[0:tt_H,0:-1], S.iloc[0:tt_S:, 0:-1]], axis=0)\n",
        "  y_train = pd.concat([H.iloc[0:tt_H,-1], S.iloc[0:tt_S, -1]], axis=0)\n",
        "  x_test = pd.concat([H.iloc[tt_H:,0:-1], S.iloc[tt_S:, 0:-1]], axis=0)\n",
        "  y_test = pd.concat([H.iloc[tt_H:,-1], S.iloc[tt_S:, -1]], axis=0)\n",
        "\n",
        "  #extract tf-idf features from train and test\n",
        "  vectorizer = TfidfVectorizer(max_features=feature_num)\n",
        "  tf_idf = vectorizer.fit_transform(x_train['CONTENT'])\n",
        "  tf_train = tf_idf.toarray()\n",
        "\n",
        "  tf_idf = vectorizer.fit_transform(x_test['CONTENT'])\n",
        "  tf_test = tf_idf.toarray()\n",
        "\n",
        "  #For l2 penalty:\n",
        "  model = LogisticRegression()\n",
        "  params = {'max_iter':100000000}\n",
        "  best_lam = best_lambda(model, tf_train, y_train, params)\n",
        "  best_model = LogisticRegression(C=best_lam).fit(tf_train,y_train)\n",
        "  y_pred=best_model.predict(tf_test)\n",
        "  l2=generate_array('L2            ',y_test, y_pred)\n",
        "  \n",
        "  #For l1 penalty:\n",
        "  model =  LogisticRegression()\n",
        "  params = {'penalty': 'l1', 'solver':'liblinear','max_iter':pow(10,7)}\n",
        "  best_lam = best_lambda(model, tf_train, y_train, params)\n",
        "  best_model = LogisticRegression(C=best_lam).fit(tf_train,y_train)\n",
        "  y_pred=best_model.predict(tf_test)\n",
        "  l1=generate_array('L1            ',y_test, y_pred)\n",
        "\n",
        "  #For GaussianNB:\n",
        "  best_model = GaussianNB().fit(tf_train, y_train)\n",
        "  y_pred=best_model.predict(tf_test)\n",
        "  gaussian=generate_array('NB-Gaussian   ',y_test, y_pred)\n",
        "\n",
        "  #For Multinomial\n",
        "  best_model=MultinomialNB().fit(tf_train, y_train)\n",
        "  y_pred=best_model.predict(tf_test)\n",
        "  multinomial = generate_array('NB-Multinomial',y_test, y_pred)\n",
        "\n",
        "  total = np.array([gaussian,multinomial,l2,l1])\n",
        "\n",
        "  total = np.vstack((['Instances','Accuracy', 'Precision', 'Recall', 'F1', 'AUC'],total))\n",
        "\n",
        "  # total = np.hstack(([['Instance'],['NB-Gaussian'],['NB-Multinomial'],['L2'],['L1']],total))\n",
        "\n",
        "  # fig = go.Figure(data=[go.Table(header=dict(values=['Instances','Accuracy', 'Precision', 'Recall', 'F1', 'AUC']),\n",
        "  #               cells=dict(values=total))])\n",
        "  \n",
        "  # fig.show()\n",
        "  print (total)\n"
      ],
      "execution_count": 0,
      "outputs": []
    },
    {
      "cell_type": "code",
      "metadata": {
        "id": "hWC7iWroEw6W",
        "colab_type": "code",
        "outputId": "61db345c-5cde-4fbc-b578-2f3547d24577",
        "colab": {
          "base_uri": "https://localhost:8080/",
          "height": 119
        }
      },
      "source": [
        "file_path='https://raw.githubusercontent.com/AliceWuno3/Discussion-for-2020/master/YouTube-Spam-Collection-v1/Youtube01-Psy.csv'\n",
        "df = pd.read_csv(file_path)\n",
        "print('Psy:')\n",
        "train_model(df,500)"
      ],
      "execution_count": 414,
      "outputs": [
        {
          "output_type": "stream",
          "text": [
            "Psy:\n",
            "[['Instances' 'Accuracy' 'Precision' 'Recall' 'F1' 'AUC']\n",
            " ['NB-Gaussian   ' '0.50' '0.50' '0.71' '0.59' '0.50']\n",
            " ['NB-Multinomial' '0.43' '0.39' '0.26' '0.31' '0.43']\n",
            " ['L2            ' '0.47' '0.33' '0.06' '0.10' '0.47']\n",
            " ['L1            ' '0.47' '0.33' '0.06' '0.10' '0.47']]\n"
          ],
          "name": "stdout"
        }
      ]
    },
    {
      "cell_type": "code",
      "metadata": {
        "id": "rw82meWTTtGM",
        "colab_type": "code",
        "colab": {
          "base_uri": "https://localhost:8080/",
          "height": 119
        },
        "outputId": "3777c203-3387-44b6-d96e-9b2596cefba2"
      },
      "source": [
        "file_path='https://raw.githubusercontent.com/AliceWuno3/Discussion-for-2020/master/YouTube-Spam-Collection-v1/Youtube02-KatyPerry.csv'\n",
        "df = pd.read_csv(file_path)\n",
        "print('KatePerry:')\n",
        "train_model(df,500)"
      ],
      "execution_count": 415,
      "outputs": [
        {
          "output_type": "stream",
          "text": [
            "KatePerry:\n",
            "[['Instances' 'Accuracy' 'Precision' 'Recall' 'F1' 'AUC']\n",
            " ['NB-Gaussian   ' '0.61' '0.57' '0.97' '0.72' '0.61']\n",
            " ['NB-Multinomial' '0.63' '0.60' '0.80' '0.68' '0.63']\n",
            " ['L2            ' '0.64' '0.68' '0.54' '0.60' '0.64']\n",
            " ['L1            ' '0.61' '0.57' '0.89' '0.70' '0.61']]\n"
          ],
          "name": "stdout"
        }
      ]
    },
    {
      "cell_type": "code",
      "metadata": {
        "id": "Q3xoRQNfT7Km",
        "colab_type": "code",
        "colab": {
          "base_uri": "https://localhost:8080/",
          "height": 119
        },
        "outputId": "0f0e342d-b7dd-4dcd-f315-d1f9d16ce572"
      },
      "source": [
        "file_path='https://raw.githubusercontent.com/AliceWuno3/Discussion-for-2020/master/YouTube-Spam-Collection-v1/Youtube03-LMFAO.csv'\n",
        "df = pd.read_csv(file_path)\n",
        "print('LMFAO:')\n",
        "train_model(df,364)"
      ],
      "execution_count": 416,
      "outputs": [
        {
          "output_type": "stream",
          "text": [
            "LMFAO:\n",
            "[['Instances' 'Accuracy' 'Precision' 'Recall' 'F1' 'AUC']\n",
            " ['NB-Gaussian   ' '0.61' '0.60' '0.81' '0.69' '0.59']\n",
            " ['NB-Multinomial' '0.43' '0.43' '0.21' '0.28' '0.45']\n",
            " ['L2            ' '0.54' '0.54' '1.00' '0.70' '0.50']\n",
            " ['L1            ' '0.43' '0.00' '0.00' '0.00' '0.46']]\n"
          ],
          "name": "stdout"
        }
      ]
    },
    {
      "cell_type": "code",
      "metadata": {
        "id": "VS0vmijmUIO7",
        "colab_type": "code",
        "colab": {
          "base_uri": "https://localhost:8080/",
          "height": 187
        },
        "outputId": "f0205f13-776c-4af5-cbff-ebc3ca6e6d24"
      },
      "source": [
        "file_path='https://raw.githubusercontent.com/AliceWuno3/Discussion-for-2020/master/YouTube-Spam-Collection-v1/Youtube05-Shakira.csv'\n",
        "df = pd.read_csv(file_path)\n",
        "print('Shakira:')\n",
        "train_model(df,341)"
      ],
      "execution_count": 417,
      "outputs": [
        {
          "output_type": "stream",
          "text": [
            "Shakira:\n",
            "[['Instances' 'Accuracy' 'Precision' 'Recall' 'F1' 'AUC']\n",
            " ['NB-Gaussian   ' '0.57' '0.52' '1.00' '0.69' '0.60']\n",
            " ['NB-Multinomial' '0.59' '0.54' '0.86' '0.66' '0.60']\n",
            " ['L2            ' '0.87' '0.93' '0.77' '0.84' '0.86']\n",
            " ['L1            ' '0.53' '0.00' '0.00' '0.00' '0.50']]\n"
          ],
          "name": "stdout"
        },
        {
          "output_type": "stream",
          "text": [
            "/usr/local/lib/python3.6/dist-packages/sklearn/metrics/_classification.py:1272: UndefinedMetricWarning:\n",
            "\n",
            "Precision is ill-defined and being set to 0.0 due to no predicted samples. Use `zero_division` parameter to control this behavior.\n",
            "\n"
          ],
          "name": "stderr"
        }
      ]
    },
    {
      "cell_type": "code",
      "metadata": {
        "id": "oF0AvVq8WnKB",
        "colab_type": "code",
        "colab": {}
      },
      "source": [
        ""
      ],
      "execution_count": 0,
      "outputs": []
    }
  ]
}